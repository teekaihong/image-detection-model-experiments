{
 "cells": [
  {
   "cell_type": "code",
   "execution_count": 1,
   "metadata": {},
   "outputs": [],
   "source": [
    "from dotenv import load_dotenv\n",
    "import os\n",
    "from utils.s3_download import list_all_objects, s3_client\n",
    "from pathlib import Path\n",
    "from PIL import Image\n",
    "from tqdm import tqdm\n",
    "from multiprocessing import Pool\n",
    "\n",
    "\n",
    "load_dotenv(override=True)\n",
    "\n",
    "BUCKET_NAME = os.getenv(\"BUCKET_NAME\")\n",
    "RAW_FOLDER = os.getenv(\"RAW_FOLDER\")\n",
    "CLEAN_FOLDER = os.getenv(\"CLEAN_FOLDER\")\n",
    "SELECTED_FOLDER = os.getenv(\"SELECTED_FOLDER\")\n",
    "LOCAL_BUCKET_FOLDER = os.getenv(\"LOCAL_BUCKET_FOLDER\")\n",
    "VIDEO_EXTRACTION_FOLDER = os.getenv(\"VIDEO_EXTRACTION_FOLDER\")\n",
    "EXCLUDE_FOLDER = os.getenv(\"EXCLUDE_FOLDER\")\n",
    "\n",
    "IMAGE_SIZE = eval(os.getenv(\"IMAGE_SIZE\"))"
   ]
  },
  {
   "cell_type": "code",
   "execution_count": 2,
   "metadata": {},
   "outputs": [
    {
     "name": "stderr",
     "output_type": "stream",
     "text": [
      "listing s3 objects: 42it [00:07,  5.41it/s]\n"
     ]
    },
    {
     "name": "stdout",
     "output_type": "stream",
     "text": [
      "Number of files in sg-implement/prod_raw: 41201\n"
     ]
    },
    {
     "name": "stderr",
     "output_type": "stream",
     "text": [
      "listing s3 objects: 1it [00:00,  6.55it/s]\n"
     ]
    },
    {
     "name": "stdout",
     "output_type": "stream",
     "text": [
      "Number of files in sg-implement/video_extraction/2023-10-31T13-38-28: 822\n"
     ]
    },
    {
     "name": "stderr",
     "output_type": "stream",
     "text": [
      "listing s3 objects: 11it [00:02,  5.27it/s]\n"
     ]
    },
    {
     "name": "stdout",
     "output_type": "stream",
     "text": [
      "Number of files in sg-implement/prod_clean: 10515\n"
     ]
    },
    {
     "name": "stderr",
     "output_type": "stream",
     "text": [
      "listing s3 objects: 2it [00:00,  8.59it/s]"
     ]
    },
    {
     "name": "stdout",
     "output_type": "stream",
     "text": [
      "Number of files in sg-implement/prod_exclude: 1217\n"
     ]
    },
    {
     "name": "stderr",
     "output_type": "stream",
     "text": [
      "\n"
     ]
    }
   ],
   "source": [
    "def list_files_to_download(s3_folder:str):\n",
    "    s3_files = list_all_objects(s3_client, BUCKET_NAME, s3_folder)\n",
    "    print(f\"Number of files in {BUCKET_NAME}/{s3_folder}: {len(s3_files)}\")\n",
    "    s3_files = [k['Key'] for k in s3_files if not k['Key'].endswith('/')]\n",
    "    return s3_files\n",
    "\n",
    "pipeline_s3_files = list_files_to_download(RAW_FOLDER)\n",
    "vid_s3_files = list_files_to_download(VIDEO_EXTRACTION_FOLDER + '/2023-10-31T13-38-28')\n",
    "clean_s3_files = [f for f in list_files_to_download(CLEAN_FOLDER) if f.endswith('.json')]\n",
    "exclude_s3_files = list_files_to_download(EXCLUDE_FOLDER)"
   ]
  },
  {
   "cell_type": "code",
   "execution_count": 3,
   "metadata": {},
   "outputs": [],
   "source": [
    "s3_files = pipeline_s3_files + vid_s3_files + clean_s3_files + exclude_s3_files"
   ]
  },
  {
   "cell_type": "code",
   "execution_count": null,
   "metadata": {},
   "outputs": [
    {
     "name": "stderr",
     "output_type": "stream",
     "text": [
      " 92%|████████████████████████████████████████████████████████████████████▉      | 44548/48493 [00:09<00:03, 1236.18it/s]"
     ]
    }
   ],
   "source": [
    "def download_and_resize(file:str, s3_client=s3_client):\n",
    "    local_save_folder = Path(f\"{LOCAL_BUCKET_FOLDER}\")\n",
    "    local_img_path = local_save_folder / file\n",
    "    if local_img_path.exists():\n",
    "        return False\n",
    "    local_img_path.parent.mkdir(parents=True, exist_ok=True)\n",
    "    s3_client.download_file(BUCKET_NAME, file, str(local_img_path))\n",
    "    if local_img_path.suffix == '.jpg':\n",
    "        img = Image.open(local_img_path)\n",
    "        img = img.resize(IMAGE_SIZE)\n",
    "        img.save(local_img_path)\n",
    "    return True\n",
    "\n",
    "def download_images(s3_files:list[str]):\n",
    "    with Pool(32) as p:\n",
    "        r = list(tqdm(p.imap(download_and_resize, s3_files), total=len(s3_files)))\n",
    "    num_downloaded = sum(r)\n",
    "    print(f\"Number of files downloaded: {num_downloaded}\")\n",
    "    return num_downloaded\n",
    "\n",
    "num_downloaded = download_images(s3_files)"
   ]
  }
 ],
 "metadata": {
  "kernelspec": {
   "display_name": "Python 3 (ipykernel)",
   "language": "python",
   "name": "python3"
  },
  "language_info": {
   "codemirror_mode": {
    "name": "ipython",
    "version": 3
   },
   "file_extension": ".py",
   "mimetype": "text/x-python",
   "name": "python",
   "nbconvert_exporter": "python",
   "pygments_lexer": "ipython3",
   "version": "3.10.10"
  }
 },
 "nbformat": 4,
 "nbformat_minor": 4
}
