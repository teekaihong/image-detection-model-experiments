{
 "cells": [
  {
   "cell_type": "code",
   "execution_count": 1,
   "metadata": {},
   "outputs": [
    {
     "name": "stderr",
     "output_type": "stream",
     "text": [
      "listing s3 objects: 41it [00:06,  5.87it/s]"
     ]
    },
    {
     "name": "stdout",
     "output_type": "stream",
     "text": [
      "Number of files in sg-implement/prod_raw: 40941\n"
     ]
    },
    {
     "name": "stderr",
     "output_type": "stream",
     "text": [
      "\n"
     ]
    },
    {
     "data": {
      "text/plain": [
       "['prod_raw/PS1053/flail_mower_2023-05-23-15-02-13_1.jpg',\n",
       " 'prod_raw/PS1053/flail_mower_2023-05-23-15-02-13_1.json',\n",
       " 'prod_raw/PS1053/flail_mower_2023-05-23-15-02-13_2.jpg']"
      ]
     },
     "execution_count": 1,
     "metadata": {},
     "output_type": "execute_result"
    }
   ],
   "source": [
    "from dotenv import load_dotenv\n",
    "import os\n",
    "from utils.s3_download import list_all_objects, s3_client\n",
    "from pathlib import Path\n",
    "from PIL import Image\n",
    "from tqdm import tqdm\n",
    "from multiprocessing import Pool\n",
    "\n",
    "\n",
    "load_dotenv(override=True)\n",
    "\n",
    "BUCKET_NAME = os.getenv(\"BUCKET_NAME\")\n",
    "RAW_FOLDER = os.getenv(\"RAW_FOLDER\")\n",
    "CLEAN_FOLDER = os.getenv(\"CLEAN_FOLDER\")\n",
    "SELECTED_FOLDER = os.getenv(\"SELECTED_FOLDER\")\n",
    "LOCAL_BUCKET_FOLDER = os.getenv(\"LOCAL_BUCKET_FOLDER\")\n",
    "\n",
    "IMAGE_SIZE = eval(os.getenv(\"IMAGE_SIZE\"))\n",
    "\n",
    "source_folder = RAW_FOLDER\n",
    "\n",
    "s3_files = list_all_objects(s3_client, BUCKET_NAME, source_folder); print(f\"Number of files in {BUCKET_NAME}/{source_folder}: {len(s3_files)}\")\n",
    "s3_files = [k['Key'] for k in s3_files if not k['Key'].endswith('/')]\n",
    "s3_files[:3]"
   ]
  },
  {
   "cell_type": "code",
   "execution_count": 7,
   "metadata": {},
   "outputs": [
    {
     "name": "stderr",
     "output_type": "stream",
     "text": [
      "100%|███████████████████████████████████████████████████████████████████████████████████████████████████████████████████████████████████████| 40938/40938 [00:08<00:00, 4910.22it/s]"
     ]
    },
    {
     "name": "stdout",
     "output_type": "stream",
     "text": [
      "Number of files downloaded: 1445\n"
     ]
    },
    {
     "name": "stderr",
     "output_type": "stream",
     "text": [
      "\n"
     ]
    }
   ],
   "source": [
    "def download_and_resize(file:str, s3_client=s3_client):\n",
    "    local_save_folder = Path(f\"{LOCAL_BUCKET_FOLDER}\")\n",
    "    local_img_path = local_save_folder / file\n",
    "    if local_img_path.exists():\n",
    "        return False\n",
    "    local_img_path.parent.mkdir(parents=True, exist_ok=True)\n",
    "    s3_client.download_file(BUCKET_NAME, file, str(local_img_path))\n",
    "    if local_img_path.suffix == '.jpg':\n",
    "        img = Image.open(local_img_path)\n",
    "        img = img.resize(IMAGE_SIZE)\n",
    "        img.save(local_img_path)\n",
    "    return True\n",
    "\n",
    "def download_images(s3_files:list[str]):\n",
    "    with Pool(32) as p:\n",
    "        r = list(tqdm(p.imap(download_and_resize, s3_files), total=len(s3_files)))\n",
    "    num_downloaded = sum(r)\n",
    "    print(f\"Number of files downloaded: {num_downloaded}\")\n",
    "    return num_downloaded\n",
    "\n",
    "num_downloaded = download_images(s3_files)"
   ]
  }
 ],
 "metadata": {
  "kernelspec": {
   "display_name": "Python 3 (ipykernel)",
   "language": "python",
   "name": "python3"
  },
  "language_info": {
   "codemirror_mode": {
    "name": "ipython",
    "version": 3
   },
   "file_extension": ".py",
   "mimetype": "text/x-python",
   "name": "python",
   "nbconvert_exporter": "python",
   "pygments_lexer": "ipython3",
   "version": "3.11.2"
  }
 },
 "nbformat": 4,
 "nbformat_minor": 4
}
